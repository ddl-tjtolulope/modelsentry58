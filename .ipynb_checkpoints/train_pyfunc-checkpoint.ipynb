{
 "cells": [
  {
   "cell_type": "code",
   "execution_count": 1,
   "id": "5a270167",
   "metadata": {},
   "outputs": [],
   "source": [
    "import zipfile\n",
    "\n",
    "from sklearn.pipeline import Pipeline\n",
    "from sklearn.impute import SimpleImputer\n",
    "from sklearn.preprocessing import StandardScaler, OneHotEncoder\n",
    "from sklearn.compose import ColumnTransformer\n",
    "\n",
    "import pandas as pd\n",
    "from lightgbm import LGBMClassifier"
   ]
  },
  {
   "cell_type": "code",
   "execution_count": 2,
   "id": "b94e6dcf",
   "metadata": {},
   "outputs": [],
   "source": [
    "import os\n",
    "from copy import copy\n",
    "from itertools import product\n",
    "import pprint\n",
    "import shutil\n",
    "import time\n",
    "from typing import Dict\n",
    "\n",
    "import matplotlib.pyplot as plt\n",
    "import mlflow\n",
    "import numpy as np\n",
    "from sklearn import datasets, metrics, svm\n",
    "from sklearn.model_selection import train_test_split"
   ]
  },
  {
   "cell_type": "code",
   "execution_count": 3,
   "id": "a883fd47",
   "metadata": {},
   "outputs": [
    {
     "name": "stdout",
     "output_type": "stream",
     "text": [
      "Experiment id: 228\n",
      "Experiment name: census-classifier-1683916089.1754673\n"
     ]
    }
   ],
   "source": [
    "# create an experiment in MLflow\n",
    "\n",
    "# we'll make the name unique in the project by appending a timestamp so that you and other users can run this cell more than once.\n",
    "timestamp = time.time()\n",
    "username = os.environ['DOMINO_STARTING_USERNAME']\n",
    "experiment_name = f\"census-classifier-{timestamp}\"\n",
    "# below, we'll use the returned experiment_id in calls to mlflow.start_run() to add data to the experiment.\n",
    "experiment_id = mlflow.create_experiment(experiment_name)\n",
    "print(f\"Experiment id: {experiment_id}\")\n",
    "print(f\"Experiment name: {experiment_name}\")"
   ]
  },
  {
   "cell_type": "code",
   "execution_count": 4,
   "id": "f918ba63",
   "metadata": {},
   "outputs": [
    {
     "name": "stdout",
     "output_type": "stream",
     "text": [
      "Collecting raiutils\n",
      "  Downloading raiutils-0.4.0-py3-none-any.whl (17 kB)\n",
      "Requirement already satisfied: numpy in /opt/conda/lib/python3.9/site-packages (from raiutils) (1.23.3)\n",
      "Requirement already satisfied: requests in /opt/conda/lib/python3.9/site-packages (from raiutils) (2.28.1)\n",
      "Requirement already satisfied: scikit-learn in /opt/conda/lib/python3.9/site-packages (from raiutils) (1.1.2)\n",
      "Requirement already satisfied: pandas in /opt/conda/lib/python3.9/site-packages (from raiutils) (1.5.0)\n",
      "Requirement already satisfied: scipy in /opt/conda/lib/python3.9/site-packages (from raiutils) (1.9.2)\n",
      "Requirement already satisfied: pytz>=2020.1 in /opt/conda/lib/python3.9/site-packages (from pandas->raiutils) (2022.2.1)\n",
      "Requirement already satisfied: python-dateutil>=2.8.1 in /opt/conda/lib/python3.9/site-packages (from pandas->raiutils) (2.8.2)\n",
      "Requirement already satisfied: idna<4,>=2.5 in /opt/conda/lib/python3.9/site-packages (from requests->raiutils) (3.3)\n",
      "Requirement already satisfied: urllib3<1.27,>=1.21.1 in /opt/conda/lib/python3.9/site-packages (from requests->raiutils) (1.26.12)\n",
      "Requirement already satisfied: charset-normalizer<3,>=2 in /opt/conda/lib/python3.9/site-packages (from requests->raiutils) (2.1.1)\n",
      "Requirement already satisfied: certifi>=2017.4.17 in /opt/conda/lib/python3.9/site-packages (from requests->raiutils) (2022.12.7)\n",
      "Requirement already satisfied: threadpoolctl>=2.0.0 in /opt/conda/lib/python3.9/site-packages (from scikit-learn->raiutils) (3.1.0)\n",
      "Requirement already satisfied: joblib>=1.0.0 in /opt/conda/lib/python3.9/site-packages (from scikit-learn->raiutils) (1.2.0)\n",
      "Requirement already satisfied: six>=1.5 in /opt/conda/lib/python3.9/site-packages (from python-dateutil>=2.8.1->pandas->raiutils) (1.16.0)\n",
      "Installing collected packages: raiutils\n",
      "Successfully installed raiutils-0.4.0\n",
      "Dataset download attempt 1 of 4\n"
     ]
    }
   ],
   "source": [
    "!pip install raiutils\n",
    "\n",
    "from raiutils.dataset import fetch_dataset\n",
    "from sklearn.pipeline import Pipeline\n",
    "from sklearn.impute import SimpleImputer\n",
    "from sklearn.preprocessing import StandardScaler, OneHotEncoder\n",
    "from sklearn.compose import ColumnTransformer\n",
    "\n",
    "def split_label(dataset, target_feature):\n",
    "    X = dataset.drop([target_feature], axis=1)\n",
    "    y = dataset[[target_feature]]\n",
    "    return X, y\n",
    "\n",
    "def create_classification_pipeline(X):\n",
    "    pipe_cfg = {\n",
    "        'num_cols': X.dtypes[X.dtypes == 'int64'].index.values.tolist(),\n",
    "        'cat_cols': X.dtypes[X.dtypes == 'object'].index.values.tolist(),\n",
    "    }\n",
    "    num_pipe = Pipeline([\n",
    "        ('num_imputer', SimpleImputer(strategy='median')),\n",
    "        ('num_scaler', StandardScaler())\n",
    "    ])\n",
    "    cat_pipe = Pipeline([\n",
    "        ('cat_imputer', SimpleImputer(strategy='constant', fill_value='?')),\n",
    "        ('cat_encoder', OneHotEncoder(handle_unknown='ignore', sparse=False))\n",
    "    ])\n",
    "    feat_pipe = ColumnTransformer([\n",
    "        ('num_pipe', num_pipe, pipe_cfg['num_cols']),\n",
    "        ('cat_pipe', cat_pipe, pipe_cfg['cat_cols'])\n",
    "    ])\n",
    "\n",
    "    # Append classifier to preprocessing pipeline.\n",
    "    # Now we have a full prediction pipeline.\n",
    "    pipeline = Pipeline(steps=[('preprocessor', feat_pipe),\n",
    "                               ('model', LGBMClassifier(random_state=0))])\n",
    "\n",
    "    return pipeline\n",
    "\n",
    "outdirname = 'responsibleai.12.28.21'\n",
    "zipfilename = outdirname + '.zip'\n",
    "\n",
    "fetch_dataset('https://publictestdatasets.blob.core.windows.net/data/' + zipfilename, zipfilename)\n",
    "\n",
    "with zipfile.ZipFile(zipfilename, 'r') as unzip:\n",
    "    unzip.extractall('.')\n",
    "\n",
    "target_feature = 'income'\n",
    "categorical_features = ['workclass', 'education', 'marital-status',\n",
    "                        'occupation', 'relationship', 'race', 'gender', 'native-country']\n",
    "\n",
    "\n",
    "train_data = pd.read_csv('adult-train.csv', skipinitialspace=True)\n",
    "test_data = pd.read_csv('adult-test.csv', skipinitialspace=True)\n",
    "\n",
    "X_train_original, y_train = split_label(train_data, target_feature)\n",
    "X_test_original, y_test = split_label(test_data, target_feature)\n",
    "\n",
    "pipeline = create_classification_pipeline(X_train_original)\n",
    "\n",
    "y_train = y_train[target_feature].to_numpy()\n",
    "y_test = y_test[target_feature].to_numpy()\n",
    "\n",
    "\n",
    "# Take 500 samples from the test data\n",
    "test_data_sample = test_data.sample(n=500, random_state=5)"
   ]
  },
  {
   "cell_type": "code",
   "execution_count": 11,
   "id": "d45a7048",
   "metadata": {},
   "outputs": [
    {
     "name": "stdout",
     "output_type": "stream",
     "text": [
      "Finished predictions.\n",
      "Run: intrigued-colt-511\n",
      "\n",
      "Classification report:\n",
      "              precision    recall  f1-score   support\n",
      "\n",
      "       <=50K      0.899     0.943     0.920     12435\n",
      "        >50K      0.780     0.656     0.713      3846\n",
      "\n",
      "    accuracy                          0.875     16281\n",
      "   macro avg      0.839     0.799     0.816     16281\n",
      "weighted avg      0.870     0.875     0.871     16281\n",
      "\n",
      "\n"
     ]
    },
    {
     "data": {
      "image/png": "[encoded data removed]",
      "text/plain": [
       "<Figure size 640x480 with 2 Axes>"
      ]
     },
     "metadata": {},
     "output_type": "display_data"
    },
    {
     "name": "stdout",
     "output_type": "stream",
     "text": [
      "Recording run params, metrics, and artifacts to MLflow...\n",
      "{'<=50K': {'precision': 0.8985818321195861, 'recall': 0.9426618415761963, 'f1-score': 0.920094191522763, 'support': 12435}, '>50K': {'precision': 0.7796662546353523, 'recall': 0.65600624024961, 'f1-score': 0.7125105902287491, 'support': 3846}, 'accuracy': 0.8749462563724587, 'macro avg': {'precision': 0.8391240433774692, 'recall': 0.799334040912903, 'f1-score': 0.8163023908757561, 'support': 16281}, 'weighted avg': {'precision': 0.8704908480888532, 'recall': 0.8749462563724587, 'f1-score': 0.8710574904247483, 'support': 16281}}\n"
     ]
    }
   ],
   "source": [
    "run_name=None\n",
    "with mlflow.start_run(experiment_id=experiment_id, run_name=None) as run:\n",
    "    if run_name is None:\n",
    "        run_name = run.info.run_name\n",
    "            \n",
    "    model = pipeline.fit(X_train_original, y_train)\n",
    "\n",
    "    # Testing\n",
    "    predicted = model.predict(X_test_original)\n",
    "    prediction_report_str = metrics.classification_report(y_test, predicted, digits=3, output_dict=False)\n",
    "    prediction_report_dict = metrics.classification_report(y_test, predicted, output_dict=True)\n",
    "    \n",
    "    # print some info about the run and also save as file for an MLflow artifact\n",
    "    print(\"Finished predictions.\")\n",
    "    run_overview = (\n",
    "            f\"Run: {run_name}\\n\"            \n",
    "            \"\\n\"\n",
    "            \"Classification report:\\n\"\n",
    "            f\"{prediction_report_str}\\n\"\n",
    "    )\n",
    "    print(f\"{run_overview}\")\n",
    "    run_overview_file_name = \"run_overview.txt\"\n",
    "    with open(run_overview_file_name, \"w\") as f:\n",
    "        f.write(run_overview)\n",
    "    \n",
    "    # visualize model performance and save visualization for an MLflow artifact\n",
    "    disp = metrics.ConfusionMatrixDisplay.from_predictions(y_test, predicted)\n",
    "    disp.figure_.suptitle(f\"Confusion Matrix - Run {run_name}\")\n",
    "    confusion_matrix_file_name = f\"confusion_matrix_run_{run_name}.png\"\n",
    "    plt.savefig(confusion_matrix_file_name)\n",
    "    plt.show()\n",
    "\n",
    "    print(\"Recording run params, metrics, and artifacts to MLflow...\")\n",
    "    # record notable sklearn model params and performance metrics.\n",
    "    # this enables visual comparison via the Experiments UI.\n",
    "    #for param, val in svc_param_kwargs.items():\n",
    "    #    mlflow.log_param(param, val)\n",
    "    # record metrics for each individual digit as well as overall averages\n",
    "    print(prediction_report_dict)\n",
    "    for metric in (\"precision\", \"recall\", \"f1-score\"):\n",
    "        for digit in {\"<=50K\", \">50K\"}:\n",
    "            mlflow.log_metric(f\"{metric}\", prediction_report_dict[digit][metric])\n",
    "        for avg_type in (\"macro\", \"weighted\"):\n",
    "            mlflow.log_metric(f\"{metric}_{avg_type}_avg\", prediction_report_dict[f\"{avg_type} avg\"][metric])\n",
    "    mlflow.log_metric(\"overall_accuracy\", prediction_report_dict[\"accuracy\"])\n",
    "\n",
    "    # record the data for reproducibility\n",
    "    #data_dir_name = \"run_data_\"+f\"{experiment_id}\"\n",
    "    #os.mkdir(data_dir_name)\n",
    "    \n",
    "    #for data, data_name in ((X_train_original, \"train_x\"), (y_train, \"train_y\"), (X_test_original, \"test_x\"), (y_test, \"test_y\")):\n",
    "    #    with open(os.path.join(data_dir_name, f\"{data_name}.csv\"), \"w\") as data_file:\n",
    "    #        np.savetxt(data_file, data, delimiter=\",\")\n",
    "    #    mlflow.log_artifact(data_dir_name)\n",
    "    #    shutil.rmtree(data_dir_name)\n",
    "\n",
    "    # record human-readable/interpretable overview and figures\n",
    "    mlflow.log_artifact(run_overview_file_name)\n",
    "    mlflow.log_artifact(confusion_matrix_file_name)\n",
    "\n",
    "    # record the trained sklearn model\n",
    "    model_info = mlflow.sklearn.log_model(model, \"model\")"
   ]
  },
  {
   "cell_type": "markdown",
   "id": "25c50619",
   "metadata": {},
   "source": [
    "## Add the model to the registry"
   ]
  },
  {
   "cell_type": "code",
   "execution_count": 21,
   "id": "e31bf580",
   "metadata": {},
   "outputs": [
    {
     "name": "stderr",
     "output_type": "stream",
     "text": [
      "2023/05/12 19:07:43 INFO mlflow.tracking._model_registry.client: Waiting up to 300 seconds for model version to finish creation.                     Model name: Income Census Classifier, version 1\n"
     ]
    },
    {
     "name": "stdout",
     "output_type": "stream",
     "text": [
      "model Income Census Classifier already registered\n",
      "Name: Income Census Classifier\n",
      "Version: 1\n",
      "Description: LGBM model to classify census entries into income brackets\n",
      "Status: READY\n",
      "Stage: None\n"
     ]
    }
   ],
   "source": [
    "import mlflow.sklearn\n",
    "from mlflow.store.artifact.runs_artifact_repo import RunsArtifactRepository\n",
    "from mlflow import MlflowClient\n",
    "\n",
    "name = \"Income Census Classifier\"\n",
    "# Register model name in the model registry\n",
    "client = MlflowClient()\n",
    "try:\n",
    "  client.create_registered_model(name)\n",
    "except:\n",
    "  print(f\"model {name} already registered\")\n",
    "\n",
    "# Create a new version of the rfr model under the registered model name\n",
    "desc = \"LGBM model to classify census entries into income brackets\"\n",
    "#runs_uri = \"runs:/{}/sklearn-model\".format(run.info.run_id)\n",
    "#model_src = RunsArtifactRepository.get_underlying_uri(runs_uri)\n",
    "#mv = client.create_model_version(name, model_src, run.info.run_id, description=desc)\n",
    "mv = client.create_model_version(name, model_info.model_uri, run.info.run_id, description=desc)\n",
    "#mv = mlflow.register_model(model_info.model_uri, name, description=desc)\n",
    "print(\"Name: {}\".format(mv.name))\n",
    "print(\"Version: {}\".format(mv.version))\n",
    "print(\"Description: {}\".format(mv.description))\n",
    "print(\"Status: {}\".format(mv.status))\n",
    "print(\"Stage: {}\".format(mv.current_stage))"
   ]
  },
  {
   "cell_type": "markdown",
   "id": "ff4afab6",
   "metadata": {},
   "source": [
    "## Save a copy of the model to the project"
   ]
  },
  {
   "cell_type": "code",
   "execution_count": 25,
   "id": "a04374a4",
   "metadata": {},
   "outputs": [],
   "source": [
    "import pickle\n",
    "\n",
    "# dump the model into a file\n",
    "with open(\"../artifacts/model.bin\", 'wb') as f_out:\n",
    "    pickle.dump(model, f_out)\n",
    "    f_out.close()"
   ]
  },
  {
   "cell_type": "markdown",
   "id": "a4e0920f",
   "metadata": {},
   "source": [
    "## Record the training data as a training set"
   ]
  },
  {
   "cell_type": "code",
   "execution_count": 33,
   "id": "3e965d50",
   "metadata": {},
   "outputs": [
    {
     "name": "stdout",
     "output_type": "stream",
     "text": [
      "TrainingSetVersion census-training-data-integration-test-645c10fa55d999335fadfd01:2\n"
     ]
    }
   ],
   "source": [
    "from domino.training_sets import TrainingSetClient, model\n",
    "import pandas as pd\n",
    "import numpy as np\n",
    "import os\n",
    "import random\n",
    " \n",
    "# defining the column names\n",
    "cols = categorical_features\n",
    "# pare down data\n",
    "#df = df[[\"mpg\", \"displacement\", \"horsepower\", \"weight\", \"origin\"]]\n",
    "training_df = train_data.copy()\n",
    "#df_training_set.reset_index(inplace=True)\n",
    "#df_training_set.rename(columns={'index':'customer_id'}, inplace=True)\n",
    " \n",
    "tsv = TrainingSetClient.create_training_set_version(\n",
    "    training_set_name=\"census-training-data-{}-{}\".format(os.environ['DOMINO_PROJECT_OWNER'], os.environ['DOMINO_PROJECT_ID']),\n",
    "    df=training_df,\n",
    "    #key_columns=['customer_id'],\n",
    "    target_columns=[\"income\"],\n",
    "    exclude_columns=[],\n",
    "    meta={\"meta_data\": \"1\"},\n",
    "    monitoring_meta=model.MonitoringMeta(**{\n",
    "        \"categorical_columns\": cols,\n",
    "        \"timestamp_columns\": [],\n",
    "        \"ordinal_columns\": []\n",
    "    }),\n",
    "    project_name=os.environ['DOMINO_PROJECT_NAME']\n",
    ")\n",
    " \n",
    "print(f\"TrainingSetVersion {tsv.training_set_name}:{tsv.number}\")"
   ]
  },
  {
   "cell_type": "markdown",
   "id": "ed6e4052",
   "metadata": {},
   "source": [
    "## Test the prediction code"
   ]
  },
  {
   "cell_type": "code",
   "execution_count": 43,
   "id": "87a0607b",
   "metadata": {},
   "outputs": [
    {
     "name": "stderr",
     "output_type": "stream",
     "text": [
      "The information shown below represents the structure and format of the prediction data recorded by Domino when this model is deployed as a Domino Model API\n",
      "\n",
      "{\"predictions\": {\"income\": \"<=50K\"}, \"features\": {\"age\": 25, \"workclass\": \"Private\", \"fnlwgt\": 226802, \"education\": \"11th\", \"education-num\": 7, \"marital-status\": \"Never-married\", \"occupation\": \"Machine-op-inspct\", \"relationship\": \"Own-child\", \"race\": \"Black\", \"gender\": \"Male\", \"capital-gain\": 0, \"capital-loss\": 0, \"hours-per-week\": 40, \"native-country\": \"United-States\"}, \"metadata\": null, \"timestamp\": \"2023-05-11T19:10:56.362003+00:00\", \"__domino_timestamp\": \"2023-05-11T19:10:56.362003+00:00\", \"event_id\": \"bf93e7da-4214-46b7-84eb-c57f8026b3c6\", \"prediction_probability\": null, \"sample_weight\": null, \"instance_id\": null}\n"
     ]
    },
    {
     "name": "stdout",
     "output_type": "stream",
     "text": [
      "No Customer ID found! Creating a new one.\n"
     ]
    },
    {
     "data": {
      "text/plain": [
       "{'prediction': '<=50K'}"
      ]
     },
     "execution_count": 43,
     "metadata": {},
     "output_type": "execute_result"
    }
   ],
   "source": [
    "import pickle\n",
    "import numpy as np\n",
    "import pandas as pd\n",
    "from sklearn.pipeline import Pipeline\n",
    "from sklearn.preprocessing import StandardScaler\n",
    "from sklearn.compose import ColumnTransformer\n",
    "from domino_data_capture.data_capture_client import DataCaptureClient\n",
    "import datetime\n",
    "import uuid\n",
    " \n",
    "feature_names = [\"age\", \"workclass\", \"fnlwgt\", \"education\", \"education-num\", \"marital-status\", \"occupation\", \"relationship\", \"race\", \"gender\", \"capital-gain\", \"capital-loss\", \"hours-per-week\", \"native-country\"]\n",
    "predict_names = ['income']\n",
    "pred_client = DataCaptureClient(feature_names, predict_names)\n",
    " \n",
    " \n",
    "with open(\"../artifacts/model.bin\", 'rb') as f_in:\n",
    "    loaded_model = pickle.load(f_in)\n",
    "    f_in.close()  # close the file \n",
    " \n",
    "def predict(age, workclass, fnlwgt, education, education_num, marital_status, occupation, relationship, race, gender, capital_gain, capital_loss, hours_per_week, native_country, census_id=None):\n",
    "    transformed_data = pd.DataFrame([[age, workclass, fnlwgt, education, education_num, marital_status, occupation, relationship, race, gender, capital_gain, capital_loss, hours_per_week, native_country]],columns=[\"age\", \"workclass\", \"fnlwgt\", \"education\", \"education-num\", \"marital-status\", \"occupation\", \"relationship\", \"race\", \"gender\", \"capital-gain\", \"capital-loss\", \"hours-per-week\", \"native-country\"])\n",
    "    prediction = loaded_model.predict(transformed_data)\n",
    "    \n",
    "    if census_id is None:\n",
    "        print(f\"No Customer ID found! Creating a new one.\")\n",
    "        census_id = str(uuid.uuid4())\n",
    "    \n",
    "    feature_array = list([age, workclass, fnlwgt, education, education_num, marital_status, occupation, relationship, race, gender, capital_gain, capital_loss, hours_per_week, native_country])\n",
    "    pred_array = list(prediction)\n",
    "    \n",
    "    pred_client.capturePrediction(feature_array, prediction, event_id=census_id)\n",
    "    \n",
    "    return dict(prediction=prediction[0])\n",
    "    \n",
    "predict(25, \"Private\", 226802, \"11th\", 7, \"Never-married\", \"Machine-op-inspct\", \"Own-child\", \"Black\", \"Male\", 0, 0, 40, \"United-States\")"
   ]
  },
  {
   "cell_type": "markdown",
   "id": "23edbe93",
   "metadata": {},
   "source": [
    "## Test the Model API"
   ]
  },
  {
   "cell_type": "code",
   "execution_count": 33,
   "id": "10488de5",
   "metadata": {},
   "outputs": [
    {
     "name": "stdout",
     "output_type": "stream",
     "text": [
      "posting: {'data': {'age': 31, 'workclass': 'Private', 'fnlwgt': 55104, 'education': 'HS-grad', 'education_num': 9, 'marital_status': 'Divorced', 'occupation': 'Adm-clerical', 'relationship': 'Not-in-family', 'race': 'White', 'gender': 'Female', 'capital_gain': 0, 'capital_loss': 0, 'hours_per_week': 25, 'native_country': 'United-States'}}\n",
      "400\n",
      "{'Date': 'Fri, 12 May 2023 20:45:39 GMT', 'Content-Type': 'application/json', 'Content-Length': '745', 'Connection': 'keep-alive', 'X-Request-ID': '34U2BZ7Q6WJTLRVH', 'Domino-Server': 'nginx-ingress,model-api,', 'Access-Control-Allow-Origin': '*', 'Access-Control-Allow-Methods': 'POST', 'Access-Control-Allow-Headers': 'authorization,content-type', 'Strict-Transport-Security': 'max-age=31536000; includeSubDomains'}\n",
      "{'error': {'message': \"Expected 2D array, got scalar array instead:\\narray={'age': 31, 'workclass': 'Private', 'fnlwgt': 55104, 'education': 'HS-grad', 'education_num': 9, 'marital_status': 'Divorced', 'occupation': 'Adm-clerical', 'relationship': 'Not-in-family', 'race': 'White', 'gender': 'Female', 'capital_gain': 0, 'capital_loss': 0, 'hours_per_week': 25, 'native_country': 'United-States'}.\\nReshape your data either using array.reshape(-1, 1) if your data has a single feature or array.reshape(1, -1) if it contains a single sample.\"}, 'model_time_in_ms': 0, 'release': {'harness_version': '0.1', 'registered_model_name': 'Income_Census_Classifier_New', 'registered_model_version': '3'}, 'request_id': '34U2BZ7Q6WJTLRVH', 'timing': 0.3414154052734375}\n"
     ]
    }
   ],
   "source": [
    "import pandas as pd\n",
    "import requests\n",
    "\n",
    "model_url = \"https://rev4demo12597.product-team-sandbox.domino.tech:443/models/645c2e1355d999335fadfd65/latest/model\"\n",
    "\n",
    "def split_label(dataset, target_feature):\n",
    "    X = dataset.drop([target_feature], axis=1)\n",
    "    y = dataset[[target_feature]]\n",
    "    return X, y\n",
    "\n",
    "\n",
    "target_feature = 'income'\n",
    "test_data = pd.read_csv('./adult-test.csv', skipinitialspace=True)\n",
    "X_test_original, y_test = split_label(test_data, target_feature)\n",
    "X_test_sample = X_test_original.sample(n=1, random_state=5)\n",
    "\n",
    "X_test_sample_dict = X_test_sample.to_dict(orient='records')\n",
    "\n",
    "columns = [\n",
    "    \"age\",\n",
    "    \"workclass\",\n",
    "    \"fnlwgt\",\n",
    "    \"education\",\n",
    "    \"education_num\",\n",
    "    \"marital_status\",\n",
    "    \"occupation\",\n",
    "    \"relationship\",\n",
    "    \"race\",\n",
    "    \"gender\",\n",
    "    \"capital_gain\",\n",
    "    \"capital_loss\",\n",
    "    \"hours_per_week\",\n",
    "    \"native_country\"\n",
    "]\n",
    "\n",
    "for record in X_test_sample_dict:\n",
    "    send_record = {\"data\": dict(zip(columns, list(record.values())))}\n",
    "    #send_record = {'columns': columns, 'data': record.values()}\n",
    "    print(f\"posting: {send_record}\")\n",
    "    response = requests.post(model_url,\n",
    "        auth=(\n",
    "            \"vExqOWFGYJsOjAe3MQUpeg9lug1bUGzQX6nnKqwsjTNmQfYerR4tB9SeF5cNqAP9\",\n",
    "            \"vExqOWFGYJsOjAe3MQUpeg9lug1bUGzQX6nnKqwsjTNmQfYerR4tB9SeF5cNqAP9\"\n",
    "        ),\n",
    "        json=send_record\n",
    "    )\n",
    " \n",
    "    print(response.status_code)\n",
    "    print(response.headers)\n",
    "    print(response.json())\n",
    "    #print(send_record)"
   ]
  },
  {
   "cell_type": "markdown",
   "id": "5b01fde0",
   "metadata": {},
   "source": [
    "## RAI Dashboard"
   ]
  },
  {
   "cell_type": "code",
   "execution_count": null,
   "id": "caeff844",
   "metadata": {},
   "outputs": [],
   "source": [
    "!pip install raiwidgets --user\n",
    "!pip install responsibleai --user"
   ]
  },
  {
   "cell_type": "code",
   "execution_count": null,
   "id": "46a379d6",
   "metadata": {},
   "outputs": [],
   "source": [
    "from raiwidgets import ResponsibleAIDashboard\n",
    "from responsibleai import RAIInsights\n",
    "\n",
    "from responsibleai.feature_metadata import FeatureMetadata\n",
    "feature_metadata = FeatureMetadata(categorical_features=categorical_features, dropped_features=[])\n",
    "\n",
    "rai_insights = RAIInsights(model, train_data, test_data_sample, target_feature, 'classification',\n",
    "                           feature_metadata=feature_metadata)\n",
    "\n",
    "# Interpretability\n",
    "rai_insights.explainer.add()\n",
    "# Error Analysis\n",
    "rai_insights.error_analysis.add()\n",
    "# Counterfactuals: accepts total number of counterfactuals to generate, the label that they should have, and a list of \n",
    "                # strings of categorical feature names\n",
    "rai_insights.counterfactual.add(total_CFs=10, desired_class='opposite')\n",
    "\n",
    "rai_insights.compute()\n",
    "\n",
    "from raiutils.cohort import Cohort, CohortFilter, CohortFilterMethods\n",
    "\n",
    "# Cohort on age and hours-per-week features in the dataset\n",
    "cohort_filter_age = CohortFilter(\n",
    "    method=CohortFilterMethods.METHOD_LESS,\n",
    "    arg=[65],\n",
    "    column='age')\n",
    "cohort_filter_hours_per_week = CohortFilter(\n",
    "    method=CohortFilterMethods.METHOD_GREATER,\n",
    "    arg=[40],\n",
    "    column='hours-per-week')\n",
    "\n",
    "user_cohort_age_and_hours_per_week = Cohort(name='Cohort Age and Hours-Per-Week')\n",
    "user_cohort_age_and_hours_per_week.add_cohort_filter(cohort_filter_age)\n",
    "user_cohort_age_and_hours_per_week.add_cohort_filter(cohort_filter_hours_per_week)\n",
    "\n",
    "# Cohort on marital-status feature in the dataset\n",
    "cohort_filter_marital_status = CohortFilter(\n",
    "    method=CohortFilterMethods.METHOD_INCLUDES,\n",
    "    arg=[\"Never-married\", \"Divorced\"],\n",
    "    column='marital-status')\n",
    "\n",
    "user_cohort_marital_status = Cohort(name='Cohort Marital-Status')\n",
    "user_cohort_marital_status.add_cohort_filter(cohort_filter_marital_status)\n",
    "\n",
    "# Cohort on index of the row in the dataset\n",
    "cohort_filter_index = CohortFilter(\n",
    "    method=CohortFilterMethods.METHOD_LESS,\n",
    "    arg=[20],\n",
    "    column='Index')\n",
    "\n",
    "user_cohort_index = Cohort(name='Cohort Index')\n",
    "user_cohort_index.add_cohort_filter(cohort_filter_index)\n",
    "\n",
    "# Cohort on predicted target value\n",
    "cohort_filter_predicted_y = CohortFilter(\n",
    "    method=CohortFilterMethods.METHOD_INCLUDES,\n",
    "    arg=['>50K'],\n",
    "    column='Predicted Y')\n",
    "\n",
    "user_cohort_predicted_y = Cohort(name='Cohort Predicted Y')\n",
    "user_cohort_predicted_y.add_cohort_filter(cohort_filter_predicted_y)\n",
    "\n",
    "# Cohort on predicted target value\n",
    "cohort_filter_true_y = CohortFilter(\n",
    "    method=CohortFilterMethods.METHOD_INCLUDES,\n",
    "    arg=['>50K'],\n",
    "    column='True Y')\n",
    "\n",
    "user_cohort_true_y = Cohort(name='Cohort True Y')\n",
    "user_cohort_true_y.add_cohort_filter(cohort_filter_true_y)\n",
    "\n",
    "cohort_list = [user_cohort_age_and_hours_per_week,\n",
    "               user_cohort_marital_status,\n",
    "               user_cohort_index,\n",
    "               user_cohort_predicted_y,\n",
    "               user_cohort_true_y]\n",
    "\n",
    "ResponsibleAIDashboard(rai_insights, cohort_list=cohort_list)"
   ]
  }
 ],
 "metadata": {
  "kernelspec": {
   "display_name": "Python 3 (ipykernel)",
   "language": "python",
   "name": "python3"
  },
  "language_info": {
   "codemirror_mode": {
    "name": "ipython",
    "version": 3
   },
   "file_extension": ".py",
   "mimetype": "text/x-python",
   "name": "python",
   "nbconvert_exporter": "python",
   "pygments_lexer": "ipython3",
   "version": "3.9.16"
  }
 },
 "nbformat": 4,
 "nbformat_minor": 5
}
